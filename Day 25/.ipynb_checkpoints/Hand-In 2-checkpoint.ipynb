{
 "cells": [
  {
   "cell_type": "markdown",
   "metadata": {},
   "source": [
    "# Home Credit Default Risk"
   ]
  },
  {
   "cell_type": "markdown",
   "metadata": {},
   "source": [
    "By Atwine Mugume Twinamatsiko"
   ]
  },
  {
   "cell_type": "markdown",
   "metadata": {},
   "source": [
    "I have studied some good examples and I hope to make my predictions better. In this notebook I am going to apply some of the techniques I have learnt over the past weeks of reading.\n",
    "\n",
    "I will clearly note and demontrate what i am doing for easy following:"
   ]
  },
  {
   "cell_type": "markdown",
   "metadata": {},
   "source": [
    "### Importing the necesary Libraries"
   ]
  },
  {
   "cell_type": "code",
   "execution_count": 1,
   "metadata": {},
   "outputs": [
    {
     "name": "stderr",
     "output_type": "stream",
     "text": [
      "/Volumes/BackUP/anaconda3/lib/python3.6/site-packages/sklearn/cross_validation.py:41: DeprecationWarning: This module was deprecated in version 0.18 in favor of the model_selection module into which all the refactored classes and functions are moved. Also note that the interface of the new CV iterators are different from that of this module. This module will be removed in 0.20.\n",
      "  \"This module will be removed in 0.20.\", DeprecationWarning)\n"
     ]
    }
   ],
   "source": [
    "import matplotlib.pyplot as plt #this is for visualization\n",
    "import numpy as np #this is for matrix calculation and maths\n",
    "import pandas as pd #this is for data manipulation\n",
    "import seaborn as sns #this is also to help in visualization \n",
    "import featuretools as ft #used for auto feature generation where we have many datasets\n",
    "from sklearn.preprocessing import LabelEncoder\n",
    "\n",
    "from sklearn.model_selection import train_test_split #to help in spliting the data\n",
    "from sklearn.metrics import mean_squared_error #this is to test the accuracy of the model\n",
    "from sklearn import cross_validation #to help in feature selection\n",
    "\n",
    "# I need to install xgboost as my ML method and other parameters I may have forgotten\n",
    "# I am going to need feature tools since I have many dataframes so that I can create more features\n",
    "\n",
    "# Suppress warnings \n",
    "import warnings \n",
    "warnings.filterwarnings('ignore')\n"
   ]
  },
  {
   "cell_type": "markdown",
   "metadata": {},
   "source": [
    "### Injest the data into data frames\n"
   ]
  },
  {
   "cell_type": "code",
   "execution_count": 2,
   "metadata": {},
   "outputs": [],
   "source": [
    "df_test = pd.read_csv('./application_test.csv')\n",
    "df_train = pd.read_csv('./application_train.csv')\n",
    "df_bureau = pd.read_csv('./bureau_balance.csv')\n",
    "credit_card_bal = pd.read_csv('./credit_card_balance.csv')\n",
    "instalments = pd.read_csv('./installments_payments.csv')\n",
    "POS_cash = pd.read_csv('./POS_CASH_balance.csv')"
   ]
  },
  {
   "cell_type": "markdown",
   "metadata": {},
   "source": [
    "# Initial Data Exploration\n",
    "### Look into the training data set to get some exploration going on;\n",
    "#### What are we looking for?\n",
    "> Data anomalies\n",
    "\n",
    "> Missing data\n",
    "\n",
    "> Multicollinearity\n",
    "\n",
    "> Standardizing the data after which we will do feature engineering"
   ]
  },
  {
   "cell_type": "code",
   "execution_count": 25,
   "metadata": {
    "scrolled": true
   },
   "outputs": [
    {
     "data": {
      "text/plain": [
       "((27299925, 3),\n",
       " (48744, 242),\n",
       " (307511, 244),\n",
       " (3840312, 23),\n",
       " (13605401, 8),\n",
       " (10001358, 8))"
      ]
     },
     "execution_count": 25,
     "metadata": {},
     "output_type": "execute_result"
    }
   ],
   "source": [
    "#how big are our data sets?\n",
    "df_bureau.shape,df_test.shape,df_train.shape,credit_card_bal.shape,instalments.shape,POS_cash.shape"
   ]
  },
  {
   "cell_type": "code",
   "execution_count": 26,
   "metadata": {},
   "outputs": [
    {
     "data": {
      "text/html": [
       "<div>\n",
       "<style scoped>\n",
       "    .dataframe tbody tr th:only-of-type {\n",
       "        vertical-align: middle;\n",
       "    }\n",
       "\n",
       "    .dataframe tbody tr th {\n",
       "        vertical-align: top;\n",
       "    }\n",
       "\n",
       "    .dataframe thead th {\n",
       "        text-align: right;\n",
       "    }\n",
       "</style>\n",
       "<table border=\"1\" class=\"dataframe\">\n",
       "  <thead>\n",
       "    <tr style=\"text-align: right;\">\n",
       "      <th></th>\n",
       "      <th>SK_ID_CURR</th>\n",
       "      <th>CNT_CHILDREN</th>\n",
       "      <th>AMT_INCOME_TOTAL</th>\n",
       "      <th>AMT_CREDIT</th>\n",
       "      <th>AMT_ANNUITY</th>\n",
       "      <th>AMT_GOODS_PRICE</th>\n",
       "      <th>REGION_POPULATION_RELATIVE</th>\n",
       "      <th>DAYS_BIRTH</th>\n",
       "      <th>DAYS_EMPLOYED</th>\n",
       "      <th>DAYS_REGISTRATION</th>\n",
       "      <th>...</th>\n",
       "      <th>WALLSMATERIAL_MODE_Block</th>\n",
       "      <th>WALLSMATERIAL_MODE_Mixed</th>\n",
       "      <th>WALLSMATERIAL_MODE_Monolithic</th>\n",
       "      <th>WALLSMATERIAL_MODE_Others</th>\n",
       "      <th>WALLSMATERIAL_MODE_Panel</th>\n",
       "      <th>WALLSMATERIAL_MODE_Stone, brick</th>\n",
       "      <th>WALLSMATERIAL_MODE_Wooden</th>\n",
       "      <th>EMERGENCYSTATE_MODE_No</th>\n",
       "      <th>EMERGENCYSTATE_MODE_Yes</th>\n",
       "      <th>TARGET</th>\n",
       "    </tr>\n",
       "  </thead>\n",
       "  <tbody>\n",
       "    <tr>\n",
       "      <th>count</th>\n",
       "      <td>307511.000000</td>\n",
       "      <td>307511.000000</td>\n",
       "      <td>3.075110e+05</td>\n",
       "      <td>3.075110e+05</td>\n",
       "      <td>307499.000000</td>\n",
       "      <td>3.072330e+05</td>\n",
       "      <td>307511.000000</td>\n",
       "      <td>307511.000000</td>\n",
       "      <td>252137.000000</td>\n",
       "      <td>307511.000000</td>\n",
       "      <td>...</td>\n",
       "      <td>307511.000000</td>\n",
       "      <td>307511.000000</td>\n",
       "      <td>307511.000000</td>\n",
       "      <td>307511.000000</td>\n",
       "      <td>307511.000000</td>\n",
       "      <td>307511.000000</td>\n",
       "      <td>307511.000000</td>\n",
       "      <td>307511.000000</td>\n",
       "      <td>307511.000000</td>\n",
       "      <td>307511.000000</td>\n",
       "    </tr>\n",
       "    <tr>\n",
       "      <th>mean</th>\n",
       "      <td>278180.518577</td>\n",
       "      <td>0.417052</td>\n",
       "      <td>1.687979e+05</td>\n",
       "      <td>5.990260e+05</td>\n",
       "      <td>27108.573909</td>\n",
       "      <td>5.383962e+05</td>\n",
       "      <td>0.020868</td>\n",
       "      <td>16036.995067</td>\n",
       "      <td>-2384.169325</td>\n",
       "      <td>-4986.120328</td>\n",
       "      <td>...</td>\n",
       "      <td>0.030090</td>\n",
       "      <td>0.007466</td>\n",
       "      <td>0.005785</td>\n",
       "      <td>0.005284</td>\n",
       "      <td>0.214757</td>\n",
       "      <td>0.210773</td>\n",
       "      <td>0.017437</td>\n",
       "      <td>0.518446</td>\n",
       "      <td>0.007570</td>\n",
       "      <td>0.080729</td>\n",
       "    </tr>\n",
       "    <tr>\n",
       "      <th>std</th>\n",
       "      <td>102790.175348</td>\n",
       "      <td>0.722121</td>\n",
       "      <td>2.371231e+05</td>\n",
       "      <td>4.024908e+05</td>\n",
       "      <td>14493.737315</td>\n",
       "      <td>3.694465e+05</td>\n",
       "      <td>0.013831</td>\n",
       "      <td>4363.988632</td>\n",
       "      <td>2338.360162</td>\n",
       "      <td>3522.886321</td>\n",
       "      <td>...</td>\n",
       "      <td>0.170835</td>\n",
       "      <td>0.086085</td>\n",
       "      <td>0.075840</td>\n",
       "      <td>0.072501</td>\n",
       "      <td>0.410654</td>\n",
       "      <td>0.407858</td>\n",
       "      <td>0.130892</td>\n",
       "      <td>0.499660</td>\n",
       "      <td>0.086679</td>\n",
       "      <td>0.272419</td>\n",
       "    </tr>\n",
       "    <tr>\n",
       "      <th>min</th>\n",
       "      <td>100002.000000</td>\n",
       "      <td>0.000000</td>\n",
       "      <td>2.565000e+04</td>\n",
       "      <td>4.500000e+04</td>\n",
       "      <td>1615.500000</td>\n",
       "      <td>4.050000e+04</td>\n",
       "      <td>0.000290</td>\n",
       "      <td>7489.000000</td>\n",
       "      <td>-17912.000000</td>\n",
       "      <td>-24672.000000</td>\n",
       "      <td>...</td>\n",
       "      <td>0.000000</td>\n",
       "      <td>0.000000</td>\n",
       "      <td>0.000000</td>\n",
       "      <td>0.000000</td>\n",
       "      <td>0.000000</td>\n",
       "      <td>0.000000</td>\n",
       "      <td>0.000000</td>\n",
       "      <td>0.000000</td>\n",
       "      <td>0.000000</td>\n",
       "      <td>0.000000</td>\n",
       "    </tr>\n",
       "    <tr>\n",
       "      <th>25%</th>\n",
       "      <td>189145.500000</td>\n",
       "      <td>0.000000</td>\n",
       "      <td>1.125000e+05</td>\n",
       "      <td>2.700000e+05</td>\n",
       "      <td>16524.000000</td>\n",
       "      <td>2.385000e+05</td>\n",
       "      <td>0.010006</td>\n",
       "      <td>12413.000000</td>\n",
       "      <td>-3175.000000</td>\n",
       "      <td>-7479.500000</td>\n",
       "      <td>...</td>\n",
       "      <td>0.000000</td>\n",
       "      <td>0.000000</td>\n",
       "      <td>0.000000</td>\n",
       "      <td>0.000000</td>\n",
       "      <td>0.000000</td>\n",
       "      <td>0.000000</td>\n",
       "      <td>0.000000</td>\n",
       "      <td>0.000000</td>\n",
       "      <td>0.000000</td>\n",
       "      <td>0.000000</td>\n",
       "    </tr>\n",
       "    <tr>\n",
       "      <th>50%</th>\n",
       "      <td>278202.000000</td>\n",
       "      <td>0.000000</td>\n",
       "      <td>1.471500e+05</td>\n",
       "      <td>5.135310e+05</td>\n",
       "      <td>24903.000000</td>\n",
       "      <td>4.500000e+05</td>\n",
       "      <td>0.018850</td>\n",
       "      <td>15750.000000</td>\n",
       "      <td>-1648.000000</td>\n",
       "      <td>-4504.000000</td>\n",
       "      <td>...</td>\n",
       "      <td>0.000000</td>\n",
       "      <td>0.000000</td>\n",
       "      <td>0.000000</td>\n",
       "      <td>0.000000</td>\n",
       "      <td>0.000000</td>\n",
       "      <td>0.000000</td>\n",
       "      <td>0.000000</td>\n",
       "      <td>1.000000</td>\n",
       "      <td>0.000000</td>\n",
       "      <td>0.000000</td>\n",
       "    </tr>\n",
       "    <tr>\n",
       "      <th>75%</th>\n",
       "      <td>367142.500000</td>\n",
       "      <td>1.000000</td>\n",
       "      <td>2.025000e+05</td>\n",
       "      <td>8.086500e+05</td>\n",
       "      <td>34596.000000</td>\n",
       "      <td>6.795000e+05</td>\n",
       "      <td>0.028663</td>\n",
       "      <td>19682.000000</td>\n",
       "      <td>-767.000000</td>\n",
       "      <td>-2010.000000</td>\n",
       "      <td>...</td>\n",
       "      <td>0.000000</td>\n",
       "      <td>0.000000</td>\n",
       "      <td>0.000000</td>\n",
       "      <td>0.000000</td>\n",
       "      <td>0.000000</td>\n",
       "      <td>0.000000</td>\n",
       "      <td>0.000000</td>\n",
       "      <td>1.000000</td>\n",
       "      <td>0.000000</td>\n",
       "      <td>0.000000</td>\n",
       "    </tr>\n",
       "    <tr>\n",
       "      <th>max</th>\n",
       "      <td>456255.000000</td>\n",
       "      <td>19.000000</td>\n",
       "      <td>1.170000e+08</td>\n",
       "      <td>4.050000e+06</td>\n",
       "      <td>258025.500000</td>\n",
       "      <td>4.050000e+06</td>\n",
       "      <td>0.072508</td>\n",
       "      <td>25229.000000</td>\n",
       "      <td>0.000000</td>\n",
       "      <td>0.000000</td>\n",
       "      <td>...</td>\n",
       "      <td>1.000000</td>\n",
       "      <td>1.000000</td>\n",
       "      <td>1.000000</td>\n",
       "      <td>1.000000</td>\n",
       "      <td>1.000000</td>\n",
       "      <td>1.000000</td>\n",
       "      <td>1.000000</td>\n",
       "      <td>1.000000</td>\n",
       "      <td>1.000000</td>\n",
       "      <td>1.000000</td>\n",
       "    </tr>\n",
       "  </tbody>\n",
       "</table>\n",
       "<p>8 rows × 243 columns</p>\n",
       "</div>"
      ],
      "text/plain": [
       "          SK_ID_CURR   CNT_CHILDREN  AMT_INCOME_TOTAL    AMT_CREDIT  \\\n",
       "count  307511.000000  307511.000000      3.075110e+05  3.075110e+05   \n",
       "mean   278180.518577       0.417052      1.687979e+05  5.990260e+05   \n",
       "std    102790.175348       0.722121      2.371231e+05  4.024908e+05   \n",
       "min    100002.000000       0.000000      2.565000e+04  4.500000e+04   \n",
       "25%    189145.500000       0.000000      1.125000e+05  2.700000e+05   \n",
       "50%    278202.000000       0.000000      1.471500e+05  5.135310e+05   \n",
       "75%    367142.500000       1.000000      2.025000e+05  8.086500e+05   \n",
       "max    456255.000000      19.000000      1.170000e+08  4.050000e+06   \n",
       "\n",
       "         AMT_ANNUITY  AMT_GOODS_PRICE  REGION_POPULATION_RELATIVE  \\\n",
       "count  307499.000000     3.072330e+05               307511.000000   \n",
       "mean    27108.573909     5.383962e+05                    0.020868   \n",
       "std     14493.737315     3.694465e+05                    0.013831   \n",
       "min      1615.500000     4.050000e+04                    0.000290   \n",
       "25%     16524.000000     2.385000e+05                    0.010006   \n",
       "50%     24903.000000     4.500000e+05                    0.018850   \n",
       "75%     34596.000000     6.795000e+05                    0.028663   \n",
       "max    258025.500000     4.050000e+06                    0.072508   \n",
       "\n",
       "          DAYS_BIRTH  DAYS_EMPLOYED  DAYS_REGISTRATION      ...        \\\n",
       "count  307511.000000  252137.000000      307511.000000      ...         \n",
       "mean    16036.995067   -2384.169325       -4986.120328      ...         \n",
       "std      4363.988632    2338.360162        3522.886321      ...         \n",
       "min      7489.000000  -17912.000000      -24672.000000      ...         \n",
       "25%     12413.000000   -3175.000000       -7479.500000      ...         \n",
       "50%     15750.000000   -1648.000000       -4504.000000      ...         \n",
       "75%     19682.000000    -767.000000       -2010.000000      ...         \n",
       "max     25229.000000       0.000000           0.000000      ...         \n",
       "\n",
       "       WALLSMATERIAL_MODE_Block  WALLSMATERIAL_MODE_Mixed  \\\n",
       "count             307511.000000             307511.000000   \n",
       "mean                   0.030090                  0.007466   \n",
       "std                    0.170835                  0.086085   \n",
       "min                    0.000000                  0.000000   \n",
       "25%                    0.000000                  0.000000   \n",
       "50%                    0.000000                  0.000000   \n",
       "75%                    0.000000                  0.000000   \n",
       "max                    1.000000                  1.000000   \n",
       "\n",
       "       WALLSMATERIAL_MODE_Monolithic  WALLSMATERIAL_MODE_Others  \\\n",
       "count                  307511.000000              307511.000000   \n",
       "mean                        0.005785                   0.005284   \n",
       "std                         0.075840                   0.072501   \n",
       "min                         0.000000                   0.000000   \n",
       "25%                         0.000000                   0.000000   \n",
       "50%                         0.000000                   0.000000   \n",
       "75%                         0.000000                   0.000000   \n",
       "max                         1.000000                   1.000000   \n",
       "\n",
       "       WALLSMATERIAL_MODE_Panel  WALLSMATERIAL_MODE_Stone, brick  \\\n",
       "count             307511.000000                    307511.000000   \n",
       "mean                   0.214757                         0.210773   \n",
       "std                    0.410654                         0.407858   \n",
       "min                    0.000000                         0.000000   \n",
       "25%                    0.000000                         0.000000   \n",
       "50%                    0.000000                         0.000000   \n",
       "75%                    0.000000                         0.000000   \n",
       "max                    1.000000                         1.000000   \n",
       "\n",
       "       WALLSMATERIAL_MODE_Wooden  EMERGENCYSTATE_MODE_No  \\\n",
       "count              307511.000000           307511.000000   \n",
       "mean                    0.017437                0.518446   \n",
       "std                     0.130892                0.499660   \n",
       "min                     0.000000                0.000000   \n",
       "25%                     0.000000                0.000000   \n",
       "50%                     0.000000                1.000000   \n",
       "75%                     0.000000                1.000000   \n",
       "max                     1.000000                1.000000   \n",
       "\n",
       "       EMERGENCYSTATE_MODE_Yes         TARGET  \n",
       "count            307511.000000  307511.000000  \n",
       "mean                  0.007570       0.080729  \n",
       "std                   0.086679       0.272419  \n",
       "min                   0.000000       0.000000  \n",
       "25%                   0.000000       0.000000  \n",
       "50%                   0.000000       0.000000  \n",
       "75%                   0.000000       0.000000  \n",
       "max                   1.000000       1.000000  \n",
       "\n",
       "[8 rows x 243 columns]"
      ]
     },
     "execution_count": 26,
     "metadata": {},
     "output_type": "execute_result"
    }
   ],
   "source": [
    "#I want to look at the variables in the train dataset because it is the most important dataset\n",
    "df_train.describe()"
   ]
  },
  {
   "cell_type": "code",
   "execution_count": 27,
   "metadata": {
    "scrolled": true
   },
   "outputs": [
    {
     "data": {
      "text/plain": [
       "62"
      ]
     },
     "execution_count": 27,
     "metadata": {},
     "output_type": "execute_result"
    }
   ],
   "source": [
    "#how many empty values do we have\n",
    "df_train.isnull().any().sum()"
   ]
  },
  {
   "cell_type": "markdown",
   "metadata": {},
   "source": [
    "### Explore the Target Column"
   ]
  },
  {
   "cell_type": "code",
   "execution_count": 28,
   "metadata": {},
   "outputs": [
    {
     "data": {
      "text/plain": [
       "0    282686\n",
       "1     24825\n",
       "Name: TARGET, dtype: int64"
      ]
     },
     "execution_count": 28,
     "metadata": {},
     "output_type": "execute_result"
    }
   ],
   "source": [
    "df_train['TARGET'].value_counts()"
   ]
  },
  {
   "cell_type": "code",
   "execution_count": 29,
   "metadata": {},
   "outputs": [
    {
     "data": {
      "text/plain": [
       "<matplotlib.axes._subplots.AxesSubplot at 0x1a0bc5f2b0>"
      ]
     },
     "execution_count": 29,
     "metadata": {},
     "output_type": "execute_result"
    },
    {
     "data": {
      "image/png": "[encoded data removed]",
      "text/plain": [
       "<matplotlib.figure.Figure at 0x1a0bc6e358>"
      ]
     },
     "metadata": {},
     "output_type": "display_data"
    }
   ],
   "source": [
    "#let us look at the distribution of the target\n",
    "df_train['TARGET'].plot.hist()\n",
    "#so we see here that there are more defaults than those that have paid their loans back"
   ]
  },
  {
   "cell_type": "code",
   "execution_count": 30,
   "metadata": {},
   "outputs": [],
   "source": [
    "#check for missing values:\n",
    "def miss_val(df):\n",
    "    #the number of missing values\n",
    "    val_miss = df.isnull().sum()\n",
    "    \n",
    "    #percentage of the missing values\n",
    "    perc_miss = 100* df.isnull().sum()/len(df)\n",
    "    \n",
    "    #put the two together to form a table\n",
    "    miss_table = pd.concat([val_miss,perc_miss], axis= 1)\n",
    "    \n",
    "    #rename the columns\n",
    "    fin_mis_table = miss_table.rename(columns = {0:'Missing Values', 1: 'Percentage'})\n",
    "    \n",
    "    #sort the values in descending order\n",
    "    final_table = fin_mis_table[fin_mis_table.iloc[:,1]!=0].sort_values('Percentage', ascending = False ).round(2)\n",
    "    \n",
    "    return final_table"
   ]
  },
  {
   "cell_type": "code",
   "execution_count": 31,
   "metadata": {},
   "outputs": [
    {
     "data": {
      "text/html": [
       "<div>\n",
       "<style scoped>\n",
       "    .dataframe tbody tr th:only-of-type {\n",
       "        vertical-align: middle;\n",
       "    }\n",
       "\n",
       "    .dataframe tbody tr th {\n",
       "        vertical-align: top;\n",
       "    }\n",
       "\n",
       "    .dataframe thead th {\n",
       "        text-align: right;\n",
       "    }\n",
       "</style>\n",
       "<table border=\"1\" class=\"dataframe\">\n",
       "  <thead>\n",
       "    <tr style=\"text-align: right;\">\n",
       "      <th></th>\n",
       "      <th>Missing Values</th>\n",
       "      <th>Percentage</th>\n",
       "    </tr>\n",
       "  </thead>\n",
       "  <tbody>\n",
       "    <tr>\n",
       "      <th>COMMONAREA_MODE</th>\n",
       "      <td>214865</td>\n",
       "      <td>69.87</td>\n",
       "    </tr>\n",
       "    <tr>\n",
       "      <th>COMMONAREA_AVG</th>\n",
       "      <td>214865</td>\n",
       "      <td>69.87</td>\n",
       "    </tr>\n",
       "    <tr>\n",
       "      <th>COMMONAREA_MEDI</th>\n",
       "      <td>214865</td>\n",
       "      <td>69.87</td>\n",
       "    </tr>\n",
       "    <tr>\n",
       "      <th>NONLIVINGAPARTMENTS_MEDI</th>\n",
       "      <td>213514</td>\n",
       "      <td>69.43</td>\n",
       "    </tr>\n",
       "    <tr>\n",
       "      <th>NONLIVINGAPARTMENTS_AVG</th>\n",
       "      <td>213514</td>\n",
       "      <td>69.43</td>\n",
       "    </tr>\n",
       "    <tr>\n",
       "      <th>NONLIVINGAPARTMENTS_MODE</th>\n",
       "      <td>213514</td>\n",
       "      <td>69.43</td>\n",
       "    </tr>\n",
       "    <tr>\n",
       "      <th>LIVINGAPARTMENTS_MODE</th>\n",
       "      <td>210199</td>\n",
       "      <td>68.35</td>\n",
       "    </tr>\n",
       "    <tr>\n",
       "      <th>LIVINGAPARTMENTS_MEDI</th>\n",
       "      <td>210199</td>\n",
       "      <td>68.35</td>\n",
       "    </tr>\n",
       "    <tr>\n",
       "      <th>LIVINGAPARTMENTS_AVG</th>\n",
       "      <td>210199</td>\n",
       "      <td>68.35</td>\n",
       "    </tr>\n",
       "    <tr>\n",
       "      <th>FLOORSMIN_MODE</th>\n",
       "      <td>208642</td>\n",
       "      <td>67.85</td>\n",
       "    </tr>\n",
       "    <tr>\n",
       "      <th>FLOORSMIN_AVG</th>\n",
       "      <td>208642</td>\n",
       "      <td>67.85</td>\n",
       "    </tr>\n",
       "    <tr>\n",
       "      <th>FLOORSMIN_MEDI</th>\n",
       "      <td>208642</td>\n",
       "      <td>67.85</td>\n",
       "    </tr>\n",
       "    <tr>\n",
       "      <th>YEARS_BUILD_AVG</th>\n",
       "      <td>204488</td>\n",
       "      <td>66.50</td>\n",
       "    </tr>\n",
       "    <tr>\n",
       "      <th>YEARS_BUILD_MODE</th>\n",
       "      <td>204488</td>\n",
       "      <td>66.50</td>\n",
       "    </tr>\n",
       "    <tr>\n",
       "      <th>YEARS_BUILD_MEDI</th>\n",
       "      <td>204488</td>\n",
       "      <td>66.50</td>\n",
       "    </tr>\n",
       "    <tr>\n",
       "      <th>OWN_CAR_AGE</th>\n",
       "      <td>202929</td>\n",
       "      <td>65.99</td>\n",
       "    </tr>\n",
       "    <tr>\n",
       "      <th>LANDAREA_MEDI</th>\n",
       "      <td>182590</td>\n",
       "      <td>59.38</td>\n",
       "    </tr>\n",
       "    <tr>\n",
       "      <th>LANDAREA_MODE</th>\n",
       "      <td>182590</td>\n",
       "      <td>59.38</td>\n",
       "    </tr>\n",
       "    <tr>\n",
       "      <th>LANDAREA_AVG</th>\n",
       "      <td>182590</td>\n",
       "      <td>59.38</td>\n",
       "    </tr>\n",
       "    <tr>\n",
       "      <th>BASEMENTAREA_AVG</th>\n",
       "      <td>179943</td>\n",
       "      <td>58.52</td>\n",
       "    </tr>\n",
       "  </tbody>\n",
       "</table>\n",
       "</div>"
      ],
      "text/plain": [
       "                          Missing Values  Percentage\n",
       "COMMONAREA_MODE                   214865       69.87\n",
       "COMMONAREA_AVG                    214865       69.87\n",
       "COMMONAREA_MEDI                   214865       69.87\n",
       "NONLIVINGAPARTMENTS_MEDI          213514       69.43\n",
       "NONLIVINGAPARTMENTS_AVG           213514       69.43\n",
       "NONLIVINGAPARTMENTS_MODE          213514       69.43\n",
       "LIVINGAPARTMENTS_MODE             210199       68.35\n",
       "LIVINGAPARTMENTS_MEDI             210199       68.35\n",
       "LIVINGAPARTMENTS_AVG              210199       68.35\n",
       "FLOORSMIN_MODE                    208642       67.85\n",
       "FLOORSMIN_AVG                     208642       67.85\n",
       "FLOORSMIN_MEDI                    208642       67.85\n",
       "YEARS_BUILD_AVG                   204488       66.50\n",
       "YEARS_BUILD_MODE                  204488       66.50\n",
       "YEARS_BUILD_MEDI                  204488       66.50\n",
       "OWN_CAR_AGE                       202929       65.99\n",
       "LANDAREA_MEDI                     182590       59.38\n",
       "LANDAREA_MODE                     182590       59.38\n",
       "LANDAREA_AVG                      182590       59.38\n",
       "BASEMENTAREA_AVG                  179943       58.52"
      ]
     },
     "execution_count": 31,
     "metadata": {},
     "output_type": "execute_result"
    }
   ],
   "source": [
    "miss_val(df_train).head(20)"
   ]
  },
  {
   "cell_type": "code",
   "execution_count": 32,
   "metadata": {},
   "outputs": [
    {
     "data": {
      "text/plain": [
       "uint8      137\n",
       "float64     66\n",
       "int64       40\n",
       "bool         1\n",
       "dtype: int64"
      ]
     },
     "execution_count": 32,
     "metadata": {},
     "output_type": "execute_result"
    }
   ],
   "source": [
    "#how many data types do we have\n",
    "df_train.dtypes.value_counts()"
   ]
  },
  {
   "cell_type": "code",
   "execution_count": 33,
   "metadata": {},
   "outputs": [
    {
     "data": {
      "text/plain": [
       "Series([], dtype: float64)"
      ]
     },
     "execution_count": 33,
     "metadata": {},
     "output_type": "execute_result"
    }
   ],
   "source": [
    "#we have 16 data types that are non numeric\n",
    "#lets see them\n",
    "df_train.select_dtypes('object').apply(pd.Series.nunique, axis = 0)"
   ]
  },
  {
   "cell_type": "code",
   "execution_count": 34,
   "metadata": {},
   "outputs": [],
   "source": [
    "#since we have many values that are categorical we need to encode them because they are not easily handled\n",
    "\n",
    "#create the encoder object\n",
    "# labE = LabelEncoder()\n",
    "# le_count = 0 #to keep track of the encoded\n",
    "\n",
    "# for col in df_train:\n",
    "#     if df_train[col].dtype == 'object':\n",
    "#         #we want to encode the labels with fewer labels\n",
    "#         if len(list(df_train[col].unique())) <= 2:\n",
    "#             #train on the data\n",
    "#             labE.fit(df_train[col])\n",
    "#             #transform all the dataframes.\n",
    "#             df_test[col] = labE.transform(df_test[col])\n",
    "#             df_train[col]= labE.transform(df_train[col])\n",
    "            \n",
    "#             le_count += 1\n",
    "            \n",
    "# print('Were transformed', le_count)\n"
   ]
  },
  {
   "cell_type": "code",
   "execution_count": 35,
   "metadata": {},
   "outputs": [
    {
     "name": "stdout",
     "output_type": "stream",
     "text": [
      "Shape (48744, 242)\n",
      "Shape (307511, 244)\n"
     ]
    }
   ],
   "source": [
    "#one hot encoding\n",
    "df_test = pd.get_dummies(df_test)\n",
    "df_train = pd.get_dummies(df_train)\n",
    "\n",
    "print('Shape', df_test.shape)\n",
    "print('Shape', df_train.shape)"
   ]
  },
  {
   "cell_type": "code",
   "execution_count": 36,
   "metadata": {},
   "outputs": [
    {
     "name": "stdout",
     "output_type": "stream",
     "text": [
      "Test Shape (48744, 242)\n",
      "Train Train (307511, 243)\n"
     ]
    }
   ],
   "source": [
    "#one hot encoding creates many more columns and so the dataframes are not aligned \n",
    "#let's align the datasets\n",
    "\n",
    "#first we take out the target column\n",
    "target_label = df_train['TARGET']\n",
    "\n",
    "df_train,df_test = df_train.align(df_test,axis=1,join='inner')\n",
    "\n",
    "#replace the target column\n",
    "df_train['TARGET'] = target_label\n",
    "\n",
    "print('Test Shape',df_test.shape)\n",
    "print('Train Train', df_train.shape)"
   ]
  },
  {
   "cell_type": "code",
   "execution_count": 37,
   "metadata": {},
   "outputs": [
    {
     "data": {
      "text/plain": [
       "<matplotlib.axes._subplots.AxesSubplot at 0x1a0bc6fb00>"
      ]
     },
     "execution_count": 37,
     "metadata": {},
     "output_type": "execute_result"
    },
    {
     "data": {
      "image/png": "[encoded data removed]",
      "text/plain": [
       "<matplotlib.figure.Figure at 0x1a0bc4eeb8>"
      ]
     },
     "metadata": {},
     "output_type": "display_data"
    }
   ],
   "source": [
    "#there is an anomaly in the number of days worked, the days are so many so we will replace them\n",
    "#CREATE A FLAG COLUMN FOR THE ANOMALY DAYS\n",
    "df_train['DAYS_EMPLOYED_ANOMALY'] = df_train['DAYS_EMPLOYED']== 365243\n",
    "\n",
    "#replace the days which are abnormal\n",
    "df_train['DAYS_EMPLOYED'].replace({365243: np.nan}, inplace = True)\n",
    "\n",
    "df_train['DAYS_EMPLOYED'].plot.hist()"
   ]
  },
  {
   "cell_type": "markdown",
   "metadata": {},
   "source": [
    "## The next issue we need to look at is correlations\n",
    "\n",
    "Very high correlation means we maybe inputing data of the same type into the model hence overfitting. So this kind of data should be removed from the equation such that, the model will have some real data to work with"
   ]
  },
  {
   "cell_type": "code",
   "execution_count": 38,
   "metadata": {},
   "outputs": [
    {
     "name": "stdout",
     "output_type": "stream",
     "text": [
      "Least correlated REG_CITY_NOT_WORK_CITY         0.050994\n",
      "DAYS_ID_PUBLISH                0.051457\n",
      "CODE_GENDER_M                  0.054713\n",
      "DAYS_LAST_PHONE_CHANGE         0.055218\n",
      "NAME_INCOME_TYPE_Working       0.057481\n",
      "REGION_RATING_CLIENT           0.058899\n",
      "REGION_RATING_CLIENT_W_CITY    0.060893\n",
      "DAYS_EMPLOYED                  0.074958\n",
      "TARGET                         1.000000\n",
      "DAYS_EMPLOYED_ANOMALY               NaN\n",
      "Name: TARGET, dtype: float64\n",
      "Most correlated EXT_SOURCE_3                           -0.178919\n",
      "EXT_SOURCE_2                           -0.160472\n",
      "EXT_SOURCE_1                           -0.155317\n",
      "DAYS_BIRTH                             -0.078239\n",
      "NAME_EDUCATION_TYPE_Higher education   -0.056593\n",
      "CODE_GENDER_F                          -0.054704\n",
      "NAME_INCOME_TYPE_Pensioner             -0.046209\n",
      "ORGANIZATION_TYPE_XNA                  -0.045987\n",
      "FLOORSMAX_AVG                          -0.044003\n",
      "FLOORSMAX_MEDI                         -0.043768\n",
      "Name: TARGET, dtype: float64\n"
     ]
    }
   ],
   "source": [
    "#from numpy we have a correlation function, using pearson's correlation\n",
    "correlation = df_train.corr()['TARGET'].sort_values()\n",
    "\n",
    "print('Least correlated', correlation.tail(10))\n",
    "print('Most correlated', correlation.head(10))"
   ]
  },
  {
   "cell_type": "code",
   "execution_count": 39,
   "metadata": {},
   "outputs": [
    {
     "data": {
      "text/plain": [
       "-0.07823930830982706"
      ]
     },
     "execution_count": 39,
     "metadata": {},
     "output_type": "execute_result"
    }
   ],
   "source": [
    "#there is a high correlation between target and the days birth\n",
    "df_train['DAYS_BIRTH'] = abs(df_train['DAYS_BIRTH'])\n",
    "df_train['DAYS_BIRTH'].corr(df_train['TARGET'])"
   ]
  },
  {
   "cell_type": "code",
   "execution_count": 40,
   "metadata": {},
   "outputs": [
    {
     "data": {
      "text/plain": [
       "(array([13679., 33111., 38424., 41746., 40356., 34339., 33544., 32650.,\n",
       "        27685., 11977.]),\n",
       " array([20.51780822, 25.37808219, 30.23835616, 35.09863014, 39.95890411,\n",
       "        44.81917808, 49.67945205, 54.53972603, 59.4       , 64.26027397,\n",
       "        69.12054795]),\n",
       " <a list of 10 Patch objects>)"
      ]
     },
     "execution_count": 40,
     "metadata": {},
     "output_type": "execute_result"
    },
    {
     "data": {
      "image/png": "[encoded data removed]",
      "text/plain": [
       "<matplotlib.figure.Figure at 0x1a0bcf0be0>"
      ]
     },
     "metadata": {},
     "output_type": "display_data"
    }
   ],
   "source": [
    "# let's plot the fig and see how it looks like\n",
    "plt.style.use('fivethirtyeight')\n",
    "\n",
    "plt.hist(df_train['DAYS_BIRTH']/365, bins=10, color= 'blue', edgecolor = 'k')"
   ]
  },
  {
   "cell_type": "markdown",
   "metadata": {},
   "source": [
    "# Feature Engineering:\n",
    "For feature engineering,  I want to use feature tools to create new features \n",
    "- There are some ways to create features one of which is polynomial features\n",
    "- But first we will use random forest to look at the most important features in the dataframe"
   ]
  },
  {
   "cell_type": "markdown",
   "metadata": {},
   "source": [
    "### Polinomial Features:\n",
    "\n",
    "These are features with powers, for example if we have x, the x^2\n",
    "- we use the variables with the highest negative correlation to create the features, the reason we do this is because, the lesser the correlation, the better the variable is to help separate the differences and there by helping the model."
   ]
  },
  {
   "cell_type": "code",
   "execution_count": 41,
   "metadata": {},
   "outputs": [],
   "source": [
    "#first we create a list of the variables\n",
    "poly_train = df_train[['EXT_SOURCE_1', 'EXT_SOURCE_2', 'EXT_SOURCE_3', 'DAYS_BIRTH', 'TARGET']]\n",
    "poly_test = df_test[['EXT_SOURCE_1', 'EXT_SOURCE_2', 'EXT_SOURCE_3', 'DAYS_BIRTH']]\n",
    "\n",
    "#to handle missing values we use the imputer to fill them in based on the mean\n",
    "from sklearn.preprocessing import Imputer\n",
    "imputer = Imputer(strategy = 'median')\n",
    "\n",
    "#we take the target column out because we don't want to add anything\n",
    "poly_target = poly_train['TARGET']\n",
    "\n",
    "#lets drop it from the poly_train df\n",
    "poly_train = poly_train.drop(columns = ['TARGET'])\n",
    "\n",
    "#now lets impute the values into the dataframes\n",
    "poly_train = imputer.fit_transform(poly_train)\n",
    "poly_test = imputer.transform(poly_test)\n",
    "\n",
    "#lets now bring in the polynomial feature creator\n",
    "#we will create the features to the 4 degree to prevent over fitting\n",
    "\n",
    "from sklearn.preprocessing import PolynomialFeatures\n",
    "\n",
    "#we create the polynomial feature object\n",
    "poly_creator = PolynomialFeatures(degree=4)\n"
   ]
  },
  {
   "cell_type": "code",
   "execution_count": 42,
   "metadata": {},
   "outputs": [
    {
     "name": "stdout",
     "output_type": "stream",
     "text": [
      "Poly Features Shape: (307511, 70)\n",
      "Poly Features Shape: (48744, 70)\n"
     ]
    }
   ],
   "source": [
    "#we fit the poly features/ train the features on the training data\n",
    "poly_creator.fit(poly_train)\n",
    "\n",
    "\n",
    "#now we need to  in put the data frames created\n",
    "poly_train_ft = poly_creator.transform(poly_train)\n",
    "poly_test_ft = poly_creator.transform(poly_test)\n",
    "\n",
    "print('Poly Features Shape:', poly_train_ft.shape)\n",
    "print('Poly Features Shape:', poly_test_ft.shape)"
   ]
  },
  {
   "cell_type": "markdown",
   "metadata": {},
   "source": [
    "The number of features created have been increased and it could cause over fitting, in order to see the features created we use the code below."
   ]
  },
  {
   "cell_type": "code",
   "execution_count": 43,
   "metadata": {
    "scrolled": true
   },
   "outputs": [
    {
     "data": {
      "text/plain": [
       "['1',\n",
       " 'EXT_SOURCE_1',\n",
       " 'EXT_SOURCE_2',\n",
       " 'EXT_SOURCE_3',\n",
       " 'DAYS_BIRTH',\n",
       " 'EXT_SOURCE_1^2',\n",
       " 'EXT_SOURCE_1 EXT_SOURCE_2',\n",
       " 'EXT_SOURCE_1 EXT_SOURCE_3',\n",
       " 'EXT_SOURCE_1 DAYS_BIRTH',\n",
       " 'EXT_SOURCE_2^2',\n",
       " 'EXT_SOURCE_2 EXT_SOURCE_3',\n",
       " 'EXT_SOURCE_2 DAYS_BIRTH',\n",
       " 'EXT_SOURCE_3^2',\n",
       " 'EXT_SOURCE_3 DAYS_BIRTH',\n",
       " 'DAYS_BIRTH^2',\n",
       " 'EXT_SOURCE_1^3',\n",
       " 'EXT_SOURCE_1^2 EXT_SOURCE_2',\n",
       " 'EXT_SOURCE_1^2 EXT_SOURCE_3',\n",
       " 'EXT_SOURCE_1^2 DAYS_BIRTH',\n",
       " 'EXT_SOURCE_1 EXT_SOURCE_2^2']"
      ]
     },
     "execution_count": 43,
     "metadata": {},
     "output_type": "execute_result"
    }
   ],
   "source": [
    "poly_creator.get_feature_names(input_features = ['EXT_SOURCE_1', 'EXT_SOURCE_2', 'EXT_SOURCE_3', 'DAYS_BIRTH'])[:20]"
   ]
  },
  {
   "cell_type": "code",
   "execution_count": 45,
   "metadata": {},
   "outputs": [],
   "source": [
    "poly_df = pd.DataFrame(poly_train_ft)"
   ]
  },
  {
   "cell_type": "code",
   "execution_count": 46,
   "metadata": {},
   "outputs": [
    {
     "name": "stdout",
     "output_type": "stream",
     "text": [
      "10   -0.193939\n",
      "20   -0.189605\n",
      "29   -0.181283\n",
      "26   -0.176428\n",
      "46   -0.174534\n",
      "49   -0.174173\n",
      "28   -0.172282\n",
      "48   -0.170938\n",
      "59   -0.168159\n",
      "6    -0.166625\n",
      "Name: TARGET, dtype: float64\n",
      "--------------------\n",
      "54       -0.086895\n",
      "38       -0.086309\n",
      "15       -0.083005\n",
      "4        -0.078239\n",
      "14       -0.076672\n",
      "35       -0.076126\n",
      "34       -0.074273\n",
      "69       -0.071465\n",
      "TARGET    1.000000\n",
      "0              NaN\n",
      "Name: TARGET, dtype: float64\n"
     ]
    }
   ],
   "source": [
    "#return the target column into the data created\n",
    "poly_df['TARGET']= poly_target\n",
    "\n",
    "#lets now look at the features correlation\n",
    "poly_corr = poly_df.corr()['TARGET'].sort_values()\n",
    "\n",
    "#display the top 10 and bottom 10\n",
    "print(poly_corr.head(10))\n",
    "print('-'*20)\n",
    "print(poly_corr.tail(10))"
   ]
  },
  {
   "cell_type": "markdown",
   "metadata": {},
   "source": [
    "Right now we need to transform these df into the right data frames so we can test them"
   ]
  },
  {
   "cell_type": "code",
   "execution_count": 47,
   "metadata": {},
   "outputs": [],
   "source": [
    "#we want a data frame from the info above\n",
    "poly_df_ft = pd.DataFrame(poly_test_ft, columns = poly_creator.get_feature_names(['EXT_SOURCE_1', 'EXT_SOURCE_2', 'EXT_SOURCE_3', 'DAYS_BIRTH']))"
   ]
  },
  {
   "cell_type": "code",
   "execution_count": 48,
   "metadata": {
    "scrolled": true
   },
   "outputs": [
    {
     "data": {
      "text/plain": [
       "True"
      ]
     },
     "execution_count": 48,
     "metadata": {},
     "output_type": "execute_result"
    }
   ],
   "source": [
    "'SK_ID_CURR' in df_train.columns"
   ]
  },
  {
   "cell_type": "code",
   "execution_count": 55,
   "metadata": {},
   "outputs": [
    {
     "data": {
      "text/plain": [
       "numpy.ndarray"
      ]
     },
     "execution_count": 55,
     "metadata": {},
     "output_type": "execute_result"
    }
   ],
   "source": [
    "type(poly_train)"
   ]
  },
  {
   "cell_type": "code",
   "execution_count": 60,
   "metadata": {},
   "outputs": [
    {
     "name": "stdout",
     "output_type": "stream",
     "text": [
      "Shape of the training data: (307511, 312)\n",
      "Shape of the testing data: (48744, 312)\n"
     ]
    }
   ],
   "source": [
    "\n",
    "#lets merge the training data frame with the features\n",
    "poly_df_ft['SK_ID_CURR'] = df_train['SK_ID_CURR']\n",
    "train_poly = df_train.merge(poly_df_ft, on = 'SK_ID_CURR', how = 'left')\n",
    "\n",
    "#lets join the testing data witht he poly features\n",
    "poly_df_ft['SK_ID_CURR']= df_test['SK_ID_CURR']\n",
    "test_poly = df_test.merge(poly_df_ft, on = 'SK_ID_CURR', how = 'left')\n",
    "\n",
    "train_poly,test_poly = train_poly.align(test_poly, join = 'inner', axis = 1)\n",
    "\n",
    "print('Shape of the training data:',train_poly.shape)\n",
    "print('Shape of the testing data:',test_poly.shape)"
   ]
  },
  {
   "cell_type": "markdown",
   "metadata": {},
   "source": [
    "## Random Forest Classifier Using the polynomial Features:\n",
    "\n"
   ]
  },
  {
   "cell_type": "code",
   "execution_count": 61,
   "metadata": {},
   "outputs": [],
   "source": [
    "#lets get the polynomial feature names\n",
    "poly_feature_names = list(train_poly.columns)\n",
    "\n",
    "#impute the polynomial features\n",
    "train_poly = imputer.fit_transform(train_poly)\n",
    "test_poly = imputer.transform(test_poly)\n",
    "\n",
    "#scale the features so they can be in the range of 0-1\n",
    "from sklearn.preprocessing import MinMaxScaler\n",
    "scaler = MinMaxScaler(feature_range= (0,1))\n",
    "\n",
    "train_poly = scaler.fit_transform(train_poly)\n",
    "test_poly = scaler.transform(test_poly)\n",
    "\n",
    "from sklearn.ensemble import RandomForestClassifier\n",
    "\n",
    "poly_classiffier = RandomForestClassifier(n_estimators = 100, random_state = 50, verbose = 1, n_jobs = -1)\n",
    "\n"
   ]
  },
  {
   "cell_type": "code",
   "execution_count": 62,
   "metadata": {},
   "outputs": [
    {
     "name": "stderr",
     "output_type": "stream",
     "text": [
      "[Parallel(n_jobs=-1)]: Done  34 tasks      | elapsed:   37.8s\n",
      "[Parallel(n_jobs=-1)]: Done 100 out of 100 | elapsed:  1.5min finished\n"
     ]
    },
    {
     "data": {
      "text/plain": [
       "RandomForestClassifier(bootstrap=True, class_weight=None, criterion='gini',\n",
       "            max_depth=None, max_features='auto', max_leaf_nodes=None,\n",
       "            min_impurity_decrease=0.0, min_impurity_split=None,\n",
       "            min_samples_leaf=1, min_samples_split=2,\n",
       "            min_weight_fraction_leaf=0.0, n_estimators=100, n_jobs=-1,\n",
       "            oob_score=False, random_state=50, verbose=1, warm_start=False)"
      ]
     },
     "execution_count": 62,
     "metadata": {},
     "output_type": "execute_result"
    }
   ],
   "source": [
    "poly_classiffier.fit(train_poly,target_label)"
   ]
  },
  {
   "cell_type": "code",
   "execution_count": 64,
   "metadata": {},
   "outputs": [
    {
     "name": "stderr",
     "output_type": "stream",
     "text": [
      "[Parallel(n_jobs=8)]: Done  34 tasks      | elapsed:    0.2s\n",
      "[Parallel(n_jobs=8)]: Done 100 out of 100 | elapsed:    0.7s finished\n"
     ]
    }
   ],
   "source": [
    "predictions = poly_classiffier.predict_proba(test_poly)[:,1]"
   ]
  },
  {
   "cell_type": "code",
   "execution_count": 65,
   "metadata": {},
   "outputs": [],
   "source": [
    "submit = df_test[['SK_ID_CURR']]\n",
    "submit['TARGET']= predictions"
   ]
  },
  {
   "cell_type": "code",
   "execution_count": 66,
   "metadata": {},
   "outputs": [
    {
     "data": {
      "text/plain": [
       "(48744, 2)"
      ]
     },
     "execution_count": 66,
     "metadata": {},
     "output_type": "execute_result"
    }
   ],
   "source": [
    "submit.shape"
   ]
  },
  {
   "cell_type": "code",
   "execution_count": 67,
   "metadata": {},
   "outputs": [],
   "source": [
    "submit.to_csv('Random_Forest_HandIn.csv',index= False)"
   ]
  },
  {
   "cell_type": "code",
   "execution_count": null,
   "metadata": {},
   "outputs": [],
   "source": []
  }
 ],
 "metadata": {
  "kernelspec": {
   "display_name": "Python 3",
   "language": "python",
   "name": "python3"
  },
  "language_info": {
   "codemirror_mode": {
    "name": "ipython",
    "version": 3
   },
   "file_extension": ".py",
   "mimetype": "text/x-python",
   "name": "python",
   "nbconvert_exporter": "python",
   "pygments_lexer": "ipython3",
   "version": "3.6.4"
  }
 },
 "nbformat": 4,
 "nbformat_minor": 2
}
